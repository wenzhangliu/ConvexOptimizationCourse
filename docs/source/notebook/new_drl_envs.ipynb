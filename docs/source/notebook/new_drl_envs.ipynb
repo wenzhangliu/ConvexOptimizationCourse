{
  "cells": [
    {
      "cell_type": "markdown",
      "source": [
        "# Build Single-Agent Environment\n",
        "\n",
        "In XuanCe, users have the flexibility to create and run their own customized environments in addition to utilizing the provided ones.\n",
        "\n",
        "We need to install XuanCe before getting started."
      ],
      "metadata": {
        "collapsed": false,
        "id": "2606aae726b1f3fb"
      },
      "id": "2606aae726b1f3fb"
    },
    {
      "cell_type": "code",
      "outputs": [
        {
          "output_type": "stream",
          "name": "stdout",
          "text": [
            "Collecting xuance\n",
            "  Downloading xuance-1.3.1.tar.gz (490 kB)\n",
            "\u001b[?25l     \u001b[90m━━━━━━━━━━━━━━━━━━━━━━━━━━━━━━━━━━━━━━━━\u001b[0m \u001b[32m0.0/490.3 kB\u001b[0m \u001b[31m?\u001b[0m eta \u001b[36m-:--:--\u001b[0m\r\u001b[2K     \u001b[91m━━━━━━━━━━━━━━━━━━━━━━\u001b[0m\u001b[91m╸\u001b[0m\u001b[90m━━━━━━━━━━━━━━━━\u001b[0m \u001b[32m286.7/490.3 kB\u001b[0m \u001b[31m8.4 MB/s\u001b[0m eta \u001b[36m0:00:01\u001b[0m\r\u001b[2K     \u001b[90m━━━━━━━━━━━━━━━━━━━━━━━━━━━━━━━━━━━━━━━\u001b[0m \u001b[32m490.3/490.3 kB\u001b[0m \u001b[31m8.2 MB/s\u001b[0m eta \u001b[36m0:00:00\u001b[0m\n",
            "\u001b[?25h  Preparing metadata (setup.py) ... \u001b[?25l\u001b[?25hdone\n",
            "Requirement already satisfied: numpy in /usr/local/lib/python3.11/dist-packages (from xuance) (2.0.2)\n",
            "Requirement already satisfied: scipy in /usr/local/lib/python3.11/dist-packages (from xuance) (1.15.3)\n",
            "Requirement already satisfied: PyYAML in /usr/local/lib/python3.11/dist-packages (from xuance) (6.0.2)\n",
            "Requirement already satisfied: gymnasium in /usr/local/lib/python3.11/dist-packages (from xuance) (1.2.0)\n",
            "Requirement already satisfied: pygame in /usr/local/lib/python3.11/dist-packages (from xuance) (2.6.1)\n",
            "Requirement already satisfied: tqdm in /usr/local/lib/python3.11/dist-packages (from xuance) (4.67.1)\n",
            "Collecting pyglet==1.5.15 (from xuance)\n",
            "  Downloading pyglet-1.5.15-py3-none-any.whl.metadata (7.6 kB)\n",
            "Collecting pettingzoo (from xuance)\n",
            "  Downloading pettingzoo-1.25.0-py3-none-any.whl.metadata (8.9 kB)\n",
            "Requirement already satisfied: tensorboard in /usr/local/lib/python3.11/dist-packages (from xuance) (2.18.0)\n",
            "Requirement already satisfied: wandb in /usr/local/lib/python3.11/dist-packages (from xuance) (0.20.1)\n",
            "Requirement already satisfied: moviepy in /usr/local/lib/python3.11/dist-packages (from xuance) (1.0.3)\n",
            "Requirement already satisfied: imageio in /usr/local/lib/python3.11/dist-packages (from xuance) (2.37.0)\n",
            "Requirement already satisfied: opencv-python in /usr/local/lib/python3.11/dist-packages (from xuance) (4.11.0.86)\n",
            "Collecting mpi4py (from xuance)\n",
            "  Downloading mpi4py-4.1.0-cp311-cp311-manylinux1_x86_64.manylinux_2_5_x86_64.whl.metadata (16 kB)\n",
            "Requirement already satisfied: torch in /usr/local/lib/python3.11/dist-packages (from xuance) (2.6.0+cu124)\n",
            "Requirement already satisfied: torchvision in /usr/local/lib/python3.11/dist-packages (from xuance) (0.21.0+cu124)\n",
            "Requirement already satisfied: cloudpickle>=1.2.0 in /usr/local/lib/python3.11/dist-packages (from gymnasium->xuance) (3.1.1)\n",
            "Requirement already satisfied: typing-extensions>=4.3.0 in /usr/local/lib/python3.11/dist-packages (from gymnasium->xuance) (4.14.0)\n",
            "Requirement already satisfied: farama-notifications>=0.0.1 in /usr/local/lib/python3.11/dist-packages (from gymnasium->xuance) (0.0.4)\n",
            "Requirement already satisfied: pillow>=8.3.2 in /usr/local/lib/python3.11/dist-packages (from imageio->xuance) (11.2.1)\n",
            "Requirement already satisfied: decorator<5.0,>=4.0.2 in /usr/local/lib/python3.11/dist-packages (from moviepy->xuance) (4.4.2)\n",
            "Requirement already satisfied: requests<3.0,>=2.8.1 in /usr/local/lib/python3.11/dist-packages (from moviepy->xuance) (2.32.3)\n",
            "Requirement already satisfied: proglog<=1.0.0 in /usr/local/lib/python3.11/dist-packages (from moviepy->xuance) (0.1.12)\n",
            "Requirement already satisfied: imageio-ffmpeg>=0.2.0 in /usr/local/lib/python3.11/dist-packages (from moviepy->xuance) (0.6.0)\n",
            "Requirement already satisfied: absl-py>=0.4 in /usr/local/lib/python3.11/dist-packages (from tensorboard->xuance) (1.4.0)\n",
            "Requirement already satisfied: grpcio>=1.48.2 in /usr/local/lib/python3.11/dist-packages (from tensorboard->xuance) (1.73.1)\n",
            "Requirement already satisfied: markdown>=2.6.8 in /usr/local/lib/python3.11/dist-packages (from tensorboard->xuance) (3.8.2)\n",
            "Requirement already satisfied: packaging in /usr/local/lib/python3.11/dist-packages (from tensorboard->xuance) (24.2)\n",
            "Requirement already satisfied: protobuf!=4.24.0,>=3.19.6 in /usr/local/lib/python3.11/dist-packages (from tensorboard->xuance) (5.29.5)\n",
            "Requirement already satisfied: setuptools>=41.0.0 in /usr/local/lib/python3.11/dist-packages (from tensorboard->xuance) (75.2.0)\n",
            "Requirement already satisfied: six>1.9 in /usr/local/lib/python3.11/dist-packages (from tensorboard->xuance) (1.17.0)\n",
            "Requirement already satisfied: tensorboard-data-server<0.8.0,>=0.7.0 in /usr/local/lib/python3.11/dist-packages (from tensorboard->xuance) (0.7.2)\n",
            "Requirement already satisfied: werkzeug>=1.0.1 in /usr/local/lib/python3.11/dist-packages (from tensorboard->xuance) (3.1.3)\n",
            "Requirement already satisfied: filelock in /usr/local/lib/python3.11/dist-packages (from torch->xuance) (3.18.0)\n",
            "Requirement already satisfied: networkx in /usr/local/lib/python3.11/dist-packages (from torch->xuance) (3.5)\n",
            "Requirement already satisfied: jinja2 in /usr/local/lib/python3.11/dist-packages (from torch->xuance) (3.1.6)\n",
            "Requirement already satisfied: fsspec in /usr/local/lib/python3.11/dist-packages (from torch->xuance) (2025.3.2)\n",
            "Collecting nvidia-cuda-nvrtc-cu12==12.4.127 (from torch->xuance)\n",
            "  Downloading nvidia_cuda_nvrtc_cu12-12.4.127-py3-none-manylinux2014_x86_64.whl.metadata (1.5 kB)\n",
            "Collecting nvidia-cuda-runtime-cu12==12.4.127 (from torch->xuance)\n",
            "  Downloading nvidia_cuda_runtime_cu12-12.4.127-py3-none-manylinux2014_x86_64.whl.metadata (1.5 kB)\n",
            "Collecting nvidia-cuda-cupti-cu12==12.4.127 (from torch->xuance)\n",
            "  Downloading nvidia_cuda_cupti_cu12-12.4.127-py3-none-manylinux2014_x86_64.whl.metadata (1.6 kB)\n",
            "Collecting nvidia-cudnn-cu12==9.1.0.70 (from torch->xuance)\n",
            "  Downloading nvidia_cudnn_cu12-9.1.0.70-py3-none-manylinux2014_x86_64.whl.metadata (1.6 kB)\n",
            "Collecting nvidia-cublas-cu12==12.4.5.8 (from torch->xuance)\n",
            "  Downloading nvidia_cublas_cu12-12.4.5.8-py3-none-manylinux2014_x86_64.whl.metadata (1.5 kB)\n",
            "Collecting nvidia-cufft-cu12==11.2.1.3 (from torch->xuance)\n",
            "  Downloading nvidia_cufft_cu12-11.2.1.3-py3-none-manylinux2014_x86_64.whl.metadata (1.5 kB)\n",
            "Collecting nvidia-curand-cu12==10.3.5.147 (from torch->xuance)\n",
            "  Downloading nvidia_curand_cu12-10.3.5.147-py3-none-manylinux2014_x86_64.whl.metadata (1.5 kB)\n",
            "Collecting nvidia-cusolver-cu12==11.6.1.9 (from torch->xuance)\n",
            "  Downloading nvidia_cusolver_cu12-11.6.1.9-py3-none-manylinux2014_x86_64.whl.metadata (1.6 kB)\n",
            "Collecting nvidia-cusparse-cu12==12.3.1.170 (from torch->xuance)\n",
            "  Downloading nvidia_cusparse_cu12-12.3.1.170-py3-none-manylinux2014_x86_64.whl.metadata (1.6 kB)\n",
            "Requirement already satisfied: nvidia-cusparselt-cu12==0.6.2 in /usr/local/lib/python3.11/dist-packages (from torch->xuance) (0.6.2)\n",
            "Requirement already satisfied: nvidia-nccl-cu12==2.21.5 in /usr/local/lib/python3.11/dist-packages (from torch->xuance) (2.21.5)\n",
            "Requirement already satisfied: nvidia-nvtx-cu12==12.4.127 in /usr/local/lib/python3.11/dist-packages (from torch->xuance) (12.4.127)\n",
            "Collecting nvidia-nvjitlink-cu12==12.4.127 (from torch->xuance)\n",
            "  Downloading nvidia_nvjitlink_cu12-12.4.127-py3-none-manylinux2014_x86_64.whl.metadata (1.5 kB)\n",
            "Requirement already satisfied: triton==3.2.0 in /usr/local/lib/python3.11/dist-packages (from torch->xuance) (3.2.0)\n",
            "Requirement already satisfied: sympy==1.13.1 in /usr/local/lib/python3.11/dist-packages (from torch->xuance) (1.13.1)\n",
            "Requirement already satisfied: mpmath<1.4,>=1.1.0 in /usr/local/lib/python3.11/dist-packages (from sympy==1.13.1->torch->xuance) (1.3.0)\n",
            "Requirement already satisfied: click!=8.0.0,>=7.1 in /usr/local/lib/python3.11/dist-packages (from wandb->xuance) (8.2.1)\n",
            "Requirement already satisfied: gitpython!=3.1.29,>=1.0.0 in /usr/local/lib/python3.11/dist-packages (from wandb->xuance) (3.1.44)\n",
            "Requirement already satisfied: platformdirs in /usr/local/lib/python3.11/dist-packages (from wandb->xuance) (4.3.8)\n",
            "Requirement already satisfied: psutil>=5.0.0 in /usr/local/lib/python3.11/dist-packages (from wandb->xuance) (5.9.5)\n",
            "Requirement already satisfied: pydantic<3 in /usr/local/lib/python3.11/dist-packages (from wandb->xuance) (2.11.7)\n",
            "Requirement already satisfied: sentry-sdk>=2.0.0 in /usr/local/lib/python3.11/dist-packages (from wandb->xuance) (2.32.0)\n",
            "Requirement already satisfied: setproctitle in /usr/local/lib/python3.11/dist-packages (from wandb->xuance) (1.3.6)\n",
            "Requirement already satisfied: gitdb<5,>=4.0.1 in /usr/local/lib/python3.11/dist-packages (from gitpython!=3.1.29,>=1.0.0->wandb->xuance) (4.0.12)\n",
            "Requirement already satisfied: annotated-types>=0.6.0 in /usr/local/lib/python3.11/dist-packages (from pydantic<3->wandb->xuance) (0.7.0)\n",
            "Requirement already satisfied: pydantic-core==2.33.2 in /usr/local/lib/python3.11/dist-packages (from pydantic<3->wandb->xuance) (2.33.2)\n",
            "Requirement already satisfied: typing-inspection>=0.4.0 in /usr/local/lib/python3.11/dist-packages (from pydantic<3->wandb->xuance) (0.4.1)\n",
            "Requirement already satisfied: charset-normalizer<4,>=2 in /usr/local/lib/python3.11/dist-packages (from requests<3.0,>=2.8.1->moviepy->xuance) (3.4.2)\n",
            "Requirement already satisfied: idna<4,>=2.5 in /usr/local/lib/python3.11/dist-packages (from requests<3.0,>=2.8.1->moviepy->xuance) (3.10)\n",
            "Requirement already satisfied: urllib3<3,>=1.21.1 in /usr/local/lib/python3.11/dist-packages (from requests<3.0,>=2.8.1->moviepy->xuance) (2.4.0)\n",
            "Requirement already satisfied: certifi>=2017.4.17 in /usr/local/lib/python3.11/dist-packages (from requests<3.0,>=2.8.1->moviepy->xuance) (2025.6.15)\n",
            "Requirement already satisfied: MarkupSafe>=2.1.1 in /usr/local/lib/python3.11/dist-packages (from werkzeug>=1.0.1->tensorboard->xuance) (3.0.2)\n",
            "Requirement already satisfied: smmap<6,>=3.0.1 in /usr/local/lib/python3.11/dist-packages (from gitdb<5,>=4.0.1->gitpython!=3.1.29,>=1.0.0->wandb->xuance) (5.0.2)\n",
            "Downloading pyglet-1.5.15-py3-none-any.whl (1.1 MB)\n",
            "\u001b[2K   \u001b[90m━━━━━━━━━━━━━━━━━━━━━━━━━━━━━━━━━━━━━━━━\u001b[0m \u001b[32m1.1/1.1 MB\u001b[0m \u001b[31m35.0 MB/s\u001b[0m eta \u001b[36m0:00:00\u001b[0m\n",
            "\u001b[?25hDownloading mpi4py-4.1.0-cp311-cp311-manylinux1_x86_64.manylinux_2_5_x86_64.whl (1.4 MB)\n",
            "\u001b[2K   \u001b[90m━━━━━━━━━━━━━━━━━━━━━━━━━━━━━━━━━━━━━━━━\u001b[0m \u001b[32m1.4/1.4 MB\u001b[0m \u001b[31m55.0 MB/s\u001b[0m eta \u001b[36m0:00:00\u001b[0m\n",
            "\u001b[?25hDownloading pettingzoo-1.25.0-py3-none-any.whl (852 kB)\n",
            "\u001b[2K   \u001b[90m━━━━━━━━━━━━━━━━━━━━━━━━━━━━━━━━━━━━━━━━\u001b[0m \u001b[32m852.5/852.5 kB\u001b[0m \u001b[31m39.4 MB/s\u001b[0m eta \u001b[36m0:00:00\u001b[0m\n",
            "\u001b[?25hDownloading nvidia_cublas_cu12-12.4.5.8-py3-none-manylinux2014_x86_64.whl (363.4 MB)\n",
            "\u001b[2K   \u001b[90m━━━━━━━━━━━━━━━━━━━━━━━━━━━━━━━━━━━━━━━━\u001b[0m \u001b[32m363.4/363.4 MB\u001b[0m \u001b[31m4.5 MB/s\u001b[0m eta \u001b[36m0:00:00\u001b[0m\n",
            "\u001b[?25hDownloading nvidia_cuda_cupti_cu12-12.4.127-py3-none-manylinux2014_x86_64.whl (13.8 MB)\n",
            "\u001b[2K   \u001b[90m━━━━━━━━━━━━━━━━━━━━━━━━━━━━━━━━━━━━━━━━\u001b[0m \u001b[32m13.8/13.8 MB\u001b[0m \u001b[31m79.8 MB/s\u001b[0m eta \u001b[36m0:00:00\u001b[0m\n",
            "\u001b[?25hDownloading nvidia_cuda_nvrtc_cu12-12.4.127-py3-none-manylinux2014_x86_64.whl (24.6 MB)\n",
            "\u001b[2K   \u001b[90m━━━━━━━━━━━━━━━━━━━━━━━━━━━━━━━━━━━━━━━━\u001b[0m \u001b[32m24.6/24.6 MB\u001b[0m \u001b[31m67.4 MB/s\u001b[0m eta \u001b[36m0:00:00\u001b[0m\n",
            "\u001b[?25hDownloading nvidia_cuda_runtime_cu12-12.4.127-py3-none-manylinux2014_x86_64.whl (883 kB)\n",
            "\u001b[2K   \u001b[90m━━━━━━━━━━━━━━━━━━━━━━━━━━━━━━━━━━━━━━━━\u001b[0m \u001b[32m883.7/883.7 kB\u001b[0m \u001b[31m44.0 MB/s\u001b[0m eta \u001b[36m0:00:00\u001b[0m\n",
            "\u001b[?25hDownloading nvidia_cudnn_cu12-9.1.0.70-py3-none-manylinux2014_x86_64.whl (664.8 MB)\n",
            "\u001b[2K   \u001b[90m━━━━━━━━━━━━━━━━━━━━━━━━━━━━━━━━━━━━━━━━\u001b[0m \u001b[32m664.8/664.8 MB\u001b[0m \u001b[31m2.2 MB/s\u001b[0m eta \u001b[36m0:00:00\u001b[0m\n",
            "\u001b[?25hDownloading nvidia_cufft_cu12-11.2.1.3-py3-none-manylinux2014_x86_64.whl (211.5 MB)\n",
            "\u001b[2K   \u001b[90m━━━━━━━━━━━━━━━━━━━━━━━━━━━━━━━━━━━━━━━━\u001b[0m \u001b[32m211.5/211.5 MB\u001b[0m \u001b[31m5.9 MB/s\u001b[0m eta \u001b[36m0:00:00\u001b[0m\n",
            "\u001b[?25hDownloading nvidia_curand_cu12-10.3.5.147-py3-none-manylinux2014_x86_64.whl (56.3 MB)\n",
            "\u001b[2K   \u001b[90m━━━━━━━━━━━━━━━━━━━━━━━━━━━━━━━━━━━━━━━━\u001b[0m \u001b[32m56.3/56.3 MB\u001b[0m \u001b[31m11.2 MB/s\u001b[0m eta \u001b[36m0:00:00\u001b[0m\n",
            "\u001b[?25hDownloading nvidia_cusolver_cu12-11.6.1.9-py3-none-manylinux2014_x86_64.whl (127.9 MB)\n",
            "\u001b[2K   \u001b[90m━━━━━━━━━━━━━━━━━━━━━━━━━━━━━━━━━━━━━━━━\u001b[0m \u001b[32m127.9/127.9 MB\u001b[0m \u001b[31m7.2 MB/s\u001b[0m eta \u001b[36m0:00:00\u001b[0m\n",
            "\u001b[?25hDownloading nvidia_cusparse_cu12-12.3.1.170-py3-none-manylinux2014_x86_64.whl (207.5 MB)\n",
            "\u001b[2K   \u001b[90m━━━━━━━━━━━━━━━━━━━━━━━━━━━━━━━━━━━━━━━━\u001b[0m \u001b[32m207.5/207.5 MB\u001b[0m \u001b[31m6.0 MB/s\u001b[0m eta \u001b[36m0:00:00\u001b[0m\n",
            "\u001b[?25hDownloading nvidia_nvjitlink_cu12-12.4.127-py3-none-manylinux2014_x86_64.whl (21.1 MB)\n",
            "\u001b[2K   \u001b[90m━━━━━━━━━━━━━━━━━━━━━━━━━━━━━━━━━━━━━━━━\u001b[0m \u001b[32m21.1/21.1 MB\u001b[0m \u001b[31m61.7 MB/s\u001b[0m eta \u001b[36m0:00:00\u001b[0m\n",
            "\u001b[?25hBuilding wheels for collected packages: xuance\n",
            "  Building wheel for xuance (setup.py) ... \u001b[?25l\u001b[?25hdone\n",
            "  Created wheel for xuance: filename=xuance-1.3.1-py3-none-any.whl size=1110573 sha256=ec46a323687c33d67bcedb199cdcf4b3b8953a400d9648fcdf611e4a960532a1\n",
            "  Stored in directory: /root/.cache/pip/wheels/15/f4/13/7a387f4fcaced3c1911accf4d3e92f9ab7a93856520d52b88c\n",
            "Successfully built xuance\n",
            "Installing collected packages: pyglet, nvidia-nvjitlink-cu12, nvidia-curand-cu12, nvidia-cufft-cu12, nvidia-cuda-runtime-cu12, nvidia-cuda-nvrtc-cu12, nvidia-cuda-cupti-cu12, nvidia-cublas-cu12, mpi4py, pettingzoo, nvidia-cusparse-cu12, nvidia-cudnn-cu12, nvidia-cusolver-cu12, xuance\n",
            "  Attempting uninstall: nvidia-nvjitlink-cu12\n",
            "    Found existing installation: nvidia-nvjitlink-cu12 12.5.82\n",
            "    Uninstalling nvidia-nvjitlink-cu12-12.5.82:\n",
            "      Successfully uninstalled nvidia-nvjitlink-cu12-12.5.82\n",
            "  Attempting uninstall: nvidia-curand-cu12\n",
            "    Found existing installation: nvidia-curand-cu12 10.3.6.82\n",
            "    Uninstalling nvidia-curand-cu12-10.3.6.82:\n",
            "      Successfully uninstalled nvidia-curand-cu12-10.3.6.82\n",
            "  Attempting uninstall: nvidia-cufft-cu12\n",
            "    Found existing installation: nvidia-cufft-cu12 11.2.3.61\n",
            "    Uninstalling nvidia-cufft-cu12-11.2.3.61:\n",
            "      Successfully uninstalled nvidia-cufft-cu12-11.2.3.61\n",
            "  Attempting uninstall: nvidia-cuda-runtime-cu12\n",
            "    Found existing installation: nvidia-cuda-runtime-cu12 12.5.82\n",
            "    Uninstalling nvidia-cuda-runtime-cu12-12.5.82:\n",
            "      Successfully uninstalled nvidia-cuda-runtime-cu12-12.5.82\n",
            "  Attempting uninstall: nvidia-cuda-nvrtc-cu12\n",
            "    Found existing installation: nvidia-cuda-nvrtc-cu12 12.5.82\n",
            "    Uninstalling nvidia-cuda-nvrtc-cu12-12.5.82:\n",
            "      Successfully uninstalled nvidia-cuda-nvrtc-cu12-12.5.82\n",
            "  Attempting uninstall: nvidia-cuda-cupti-cu12\n",
            "    Found existing installation: nvidia-cuda-cupti-cu12 12.5.82\n",
            "    Uninstalling nvidia-cuda-cupti-cu12-12.5.82:\n",
            "      Successfully uninstalled nvidia-cuda-cupti-cu12-12.5.82\n",
            "  Attempting uninstall: nvidia-cublas-cu12\n",
            "    Found existing installation: nvidia-cublas-cu12 12.5.3.2\n",
            "    Uninstalling nvidia-cublas-cu12-12.5.3.2:\n",
            "      Successfully uninstalled nvidia-cublas-cu12-12.5.3.2\n",
            "  Attempting uninstall: nvidia-cusparse-cu12\n",
            "    Found existing installation: nvidia-cusparse-cu12 12.5.1.3\n",
            "    Uninstalling nvidia-cusparse-cu12-12.5.1.3:\n",
            "      Successfully uninstalled nvidia-cusparse-cu12-12.5.1.3\n",
            "  Attempting uninstall: nvidia-cudnn-cu12\n",
            "    Found existing installation: nvidia-cudnn-cu12 9.3.0.75\n",
            "    Uninstalling nvidia-cudnn-cu12-9.3.0.75:\n",
            "      Successfully uninstalled nvidia-cudnn-cu12-9.3.0.75\n",
            "  Attempting uninstall: nvidia-cusolver-cu12\n",
            "    Found existing installation: nvidia-cusolver-cu12 11.6.3.83\n",
            "    Uninstalling nvidia-cusolver-cu12-11.6.3.83:\n",
            "      Successfully uninstalled nvidia-cusolver-cu12-11.6.3.83\n",
            "Successfully installed mpi4py-4.1.0 nvidia-cublas-cu12-12.4.5.8 nvidia-cuda-cupti-cu12-12.4.127 nvidia-cuda-nvrtc-cu12-12.4.127 nvidia-cuda-runtime-cu12-12.4.127 nvidia-cudnn-cu12-9.1.0.70 nvidia-cufft-cu12-11.2.1.3 nvidia-curand-cu12-10.3.5.147 nvidia-cusolver-cu12-11.6.1.9 nvidia-cusparse-cu12-12.3.1.170 nvidia-nvjitlink-cu12-12.4.127 pettingzoo-1.25.0 pyglet-1.5.15 xuance-1.3.1\n"
          ]
        }
      ],
      "source": [
        "!pip install xuance"
      ],
      "metadata": {
        "id": "650fbb0d1fcc1984",
        "outputId": "b27ccc37-c093-45f9-dddf-fc8f891cb65c",
        "colab": {
          "base_uri": "https://localhost:8080/"
        }
      },
      "id": "650fbb0d1fcc1984",
      "execution_count": 1
    },
    {
      "cell_type": "markdown",
      "source": [
        "## Step 1: Create and Registry a New Environment\n",
        "\n",
        "First, you need to prepare an original environment, i.e., an Markov decision process.\n",
        "Then define a new environment based on the basic class ``RawEnvironment`` of XuanCe.\n",
        "After defining a new class of environment, you need to add it to the ``REGISTRY_ENV``.\n",
        "\n",
        "Here is an example:"
      ],
      "metadata": {
        "collapsed": false,
        "id": "44421108ac42dda0"
      },
      "id": "44421108ac42dda0"
    },
    {
      "cell_type": "code",
      "outputs": [],
      "source": [
        "import numpy as np\n",
        "from gymnasium.spaces import Box\n",
        "from xuance.environment import RawEnvironment, REGISTRY_ENV\n",
        "\n",
        "class MyNewEnv(RawEnvironment):\n",
        "    def __init__(self, env_config):\n",
        "        super(MyNewEnv, self).__init__()\n",
        "        self.env_id = env_config.env_id  # The environment id.\n",
        "        self.observation_space = Box(-np.inf, np.inf, shape=[18, ])  # Define observation space.\n",
        "        self.action_space = Box(-np.inf, np.inf, shape=[5, ])  # Define action space. In this example, the action space is continuous.\n",
        "        self.max_episode_steps = 32  # The max episode length.\n",
        "        self._current_step = 0  # The count of steps of current episode.\n",
        "\n",
        "    def reset(self, **kwargs):  # Reset your environment.\n",
        "        self._current_step = 0\n",
        "        return self.observation_space.sample(), {}\n",
        "\n",
        "    def step(self, action):  # Run a step with an action.\n",
        "        self._current_step += 1\n",
        "        observation = self.observation_space.sample()\n",
        "        rewards = np.random.random()\n",
        "        terminated = False\n",
        "        truncated = False if self._current_step < self.max_episode_steps else True\n",
        "        info = {}\n",
        "        return observation, rewards, terminated, truncated, info\n",
        "\n",
        "    def render(self, *args, **kwargs):  # Render your environment and return an image if the render_mode is \"rgb_array\".\n",
        "        return np.ones([64, 64, 64])\n",
        "\n",
        "    def close(self):  # Close your environment.\n",
        "        return\n"
      ],
      "metadata": {
        "id": "8618bfd3ce71b0d7"
      },
      "id": "8618bfd3ce71b0d7",
      "execution_count": 4
    },
    {
      "cell_type": "markdown",
      "source": [
        "## Step 2: Create the Config File and Read the Configurations\n",
        "\n",
        "Then, you need to create a YAML file by following the step 1 in :doc:`Further Usage <further_usage>`.\n",
        "\n",
        "Here is an example of configurations for DDPG algorithm, named \"ddpg_new_env.yaml\"."
      ],
      "metadata": {
        "collapsed": false,
        "id": "ab8e4780de2b1cb9"
      },
      "id": "ab8e4780de2b1cb9"
    },
    {
      "cell_type": "code",
      "outputs": [],
      "source": [
        "import textwrap\n",
        "\n",
        "yaml_content = textwrap.dedent(\"\"\"\n",
        "    dl_toolbox: \"torch\"  # The deep learning toolbox. Choices: \"torch\", \"mindspore\", \"tensorlayer\"\n",
        "    project_name: \"XuanCe_Benchmark\"\n",
        "    logger: \"tensorboard\"  # Choices: tensorboard, wandb.\n",
        "    wandb_user_name: \"your_user_name\"\n",
        "    render: True\n",
        "    render_mode: 'rgb_array' # Choices: 'human', 'rgb_array'.\n",
        "    fps: 50\n",
        "    test_mode: False\n",
        "    device: \"cpu\"\n",
        "    distributed_training: False\n",
        "    master_port: '12355'\n",
        "\n",
        "    agent: \"DDPG\"\n",
        "    env_name: \"MyNewEnv\"\n",
        "    env_id: \"new-v1\"\n",
        "    env_seed: 1\n",
        "    vectorize: \"DummyVecEnv\"\n",
        "    policy: \"DDPG_Policy\"\n",
        "    representation: \"Basic_Identical\"\n",
        "    learner: \"DDPG_Learner\"\n",
        "    runner: \"DRL\"\n",
        "\n",
        "    representation_hidden_size:  # If you choose Basic_Identical representation, then ignore this value\n",
        "    actor_hidden_size: [400, 300]\n",
        "    critic_hidden_size: [400, 300]\n",
        "    activation: \"leaky_relu\"\n",
        "    activation_action: 'tanh'\n",
        "\n",
        "    seed: 19089\n",
        "    parallels: 4  # number of environments\n",
        "    buffer_size: 200000  # replay buffer size\n",
        "    batch_size: 100\n",
        "    learning_rate_actor: 0.001\n",
        "    learning_rate_critic: 0.001\n",
        "    gamma: 0.99\n",
        "    tau: 0.005\n",
        "\n",
        "    start_noise: 0.5\n",
        "    end_noise: 0.1\n",
        "    training_frequency: 1\n",
        "    running_steps: 1000000  # 1M\n",
        "    start_training: 10000\n",
        "\n",
        "    use_grad_clip: False  # gradient normalization\n",
        "    grad_clip_norm: 0.5\n",
        "    use_obsnorm: False\n",
        "    use_rewnorm: False\n",
        "    obsnorm_range: 5\n",
        "    rewnorm_range: 5\n",
        "\n",
        "    test_steps: 10000\n",
        "    eval_interval: 5000\n",
        "    test_episode: 5\n",
        "\n",
        "    log_dir: \"./logs/ddpg/\"\n",
        "    model_dir: \"./models/ddpg/\"\n",
        "\"\"\")\n",
        "\n",
        "with open(\"ddpg_new_env.yaml\", \"w\") as f:\n",
        "    f.write(yaml_content)"
      ],
      "metadata": {
        "id": "acb4a6fdbc51ed8f"
      },
      "id": "acb4a6fdbc51ed8f",
      "execution_count": 15
    },
    {
      "cell_type": "markdown",
      "source": [
        "## Step 3: Read the Paramters"
      ],
      "metadata": {
        "collapsed": false,
        "id": "18bdc1ae4061ce6e"
      },
      "id": "18bdc1ae4061ce6e"
    },
    {
      "cell_type": "code",
      "outputs": [],
      "source": [
        "import argparse\n",
        "from xuance.common import get_configs\n",
        "configs_dict = get_configs(file_dir=\"ddpg_new_env.yaml\")\n",
        "configs = argparse.Namespace(**configs_dict)\n",
        "\n",
        "REGISTRY_ENV[configs.env_name] = MyNewEnv"
      ],
      "metadata": {
        "id": "bc599e6248b9ac28"
      },
      "id": "bc599e6248b9ac28",
      "execution_count": 16
    },
    {
      "cell_type": "markdown",
      "source": [
        "## Step 4: Make Your Environment and Run it with XuanCe\n",
        "\n",
        "You can now make your environment and run it directly with XuanCe's algorithms.\n",
        "\n",
        "Here is the example of DDPG algorithm:    "
      ],
      "metadata": {
        "collapsed": false,
        "id": "9ef30861d1dac549"
      },
      "id": "9ef30861d1dac549"
    },
    {
      "cell_type": "code",
      "outputs": [
        {
          "output_type": "stream",
          "name": "stderr",
          "text": [
            "  2%|▏         | 4916/250000 [00:48<1:16:19, 53.52it/s]"
          ]
        }
      ],
      "source": [
        "from xuance.environment import make_envs\n",
        "from xuance.torch.agents import DDPG_Agent\n",
        "\n",
        "envs = make_envs(configs)  # Make parallel environments.\n",
        "Agent = DDPG_Agent(config=configs, envs=envs)  # Create a DDPG agent from XuanCe.\n",
        "Agent.train(configs.running_steps // configs.parallels)  # Train the model for numerous steps.\n",
        "Agent.save_model(\"final_train_model.pth\")  # Save the model to model_dir.\n",
        "Agent.finish()  # Finish the training."
      ],
      "metadata": {
        "id": "fad649543b0640d2",
        "outputId": "7de48ef5-06ca-4b21-ea89-62b9bdf81bdf",
        "colab": {
          "base_uri": "https://localhost:8080/"
        }
      },
      "id": "fad649543b0640d2",
      "execution_count": null
    },
    {
      "cell_type": "markdown",
      "source": [
        "## Full code\n",
        "\n",
        "The full code for the above steps can be visited in this link:\n",
        "[https://github.com/agi-brain/xuance/blob/master/examples/new_environments/ddpg_new_env.py](https://github.com/agi-brain/xuance/blob/master/examples/new_environments/ddpg_new_env.py)"
      ],
      "metadata": {
        "collapsed": false,
        "id": "c728bd9e56784ded"
      },
      "id": "c728bd9e56784ded"
    }
  ],
  "metadata": {
    "kernelspec": {
      "display_name": "Python 3",
      "language": "python",
      "name": "python3"
    },
    "language_info": {
      "codemirror_mode": {
        "name": "ipython",
        "version": 2
      },
      "file_extension": ".py",
      "mimetype": "text/x-python",
      "name": "python",
      "nbconvert_exporter": "python",
      "pygments_lexer": "ipython2",
      "version": "2.7.6"
    },
    "colab": {
      "provenance": []
    }
  },
  "nbformat": 4,
  "nbformat_minor": 5
}